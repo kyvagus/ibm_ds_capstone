{
 "cells": [
  {
   "cell_type": "markdown",
   "metadata": {},
   "source": [
    "# Introduction"
   ]
  },
  {
   "cell_type": "markdown",
   "metadata": {},
   "source": [
    "This project attempts to identify the optimal price level for a new restaurant in Manhattan Neighborhoods. Specifically, whether the new restaurant will perform better with Cheap, Moderate, Expensive, or Very Expensive menu offerings. \n",
    "\n",
    "The results are expressed such that the individual can choose a neighborhood best suited for them based on their operational sweet spot, whether that be fast casual (Cheap/Moderate) or fine dining (Expensive/Very Expensive). Any stakeholder interested in opening a new restaurant in Manhattan can benefit from this analysis, but those who specialize in operating restaurants within a specific niche will find it particularly useful. \n"
   ]
  },
  {
   "cell_type": "markdown",
   "metadata": {},
   "source": [
    "# Data "
   ]
  },
  {
   "cell_type": "markdown",
   "metadata": {},
   "source": [
    "To answer the question “what pricing structure at my new restaurant will perform best in each neighborhood?” data is gathered on a restaurant’s:\n",
    "\n",
    "- Performance (target variable)\n",
    "- Pricing (feature of interest)\n",
    "- Category\n",
    "- Location \n",
    "\n",
    "**Foursquare API** is used to procure the above data points. The best measure of performance available on Foursquare is “rating,” which range from 0-10 at each restaurant based on user votes as well as an internal score aggregated by likes /dislikes, tips, and visit traffic. Price in Foursquare is measured by the following scale: “Cheap,” “Moderate,” “Expensive,” and “Very Expensive,” all of which are denoted by \\\\$, \\\\$\\\\$, \\\\$\\\\$\\\\$, \\\\$\\\\$\\\\$\\\\$, respectively. The other variables are self-explanatory.\n",
    "\n",
    "In order to leverage Foursquare API, a list of neighborhoods in Manhattan and their respective coordinates are required. Neighborhoods are obtained from the **NYC Population FactFinder**, and coordinates are determined using **Google Maps Geocoding API**.\n"
   ]
  },
  {
   "cell_type": "code",
   "execution_count": null,
   "metadata": {},
   "outputs": [],
   "source": []
  }
 ],
 "metadata": {
  "kernelspec": {
   "display_name": "Python 3",
   "language": "python",
   "name": "python3"
  },
  "language_info": {
   "codemirror_mode": {
    "name": "ipython",
    "version": 3
   },
   "file_extension": ".py",
   "mimetype": "text/x-python",
   "name": "python",
   "nbconvert_exporter": "python",
   "pygments_lexer": "ipython3",
   "version": "3.7.4"
  }
 },
 "nbformat": 4,
 "nbformat_minor": 4
}
